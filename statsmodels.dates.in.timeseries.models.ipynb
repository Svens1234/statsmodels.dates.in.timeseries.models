{
 "cells": [
  {
   "cell_type": "code",
   "execution_count": 6,
   "id": "25c10e63",
   "metadata": {},
   "outputs": [],
   "source": [
    "import pandas as pd\n",
    "import matplotlib.pyplot as plt\n",
    "import statsmodels.api as sm\n",
    "from statsmodels.tsa.ar_model import AutoReg, ar_select_order\n",
    "from datetime import datetime"
   ]
  },
  {
   "cell_type": "code",
   "execution_count": 2,
   "id": "d840f872",
   "metadata": {},
   "outputs": [],
   "source": [
    "plt.rc(\"figure\", figsize=(16, 8))\n",
    "plt.rc(\"font\", size=14)"
   ]
  },
  {
   "cell_type": "code",
   "execution_count": 7,
   "id": "bf228499",
   "metadata": {},
   "outputs": [],
   "source": [
    "data = sm.datasets.sunspots.load()"
   ]
  },
  {
   "cell_type": "code",
   "execution_count": 8,
   "id": "1e001cd9",
   "metadata": {},
   "outputs": [],
   "source": [
    "dates = pd.date_range(\"1700-1-1\", periods=len(data.endog), freq=\"A-DEC\")"
   ]
  },
  {
   "cell_type": "code",
   "execution_count": 9,
   "id": "7a63eb60",
   "metadata": {},
   "outputs": [],
   "source": [
    "data.endog.index = dates\n",
    "endog = data.endog"
   ]
  },
  {
   "cell_type": "code",
   "execution_count": 10,
   "id": "1de19b42",
   "metadata": {},
   "outputs": [
    {
     "data": {
      "text/plain": [
       "1700-12-31     5.0\n",
       "1701-12-31    11.0\n",
       "1702-12-31    16.0\n",
       "1703-12-31    23.0\n",
       "1704-12-31    36.0\n",
       "              ... \n",
       "2004-12-31    40.4\n",
       "2005-12-31    29.8\n",
       "2006-12-31    15.2\n",
       "2007-12-31     7.5\n",
       "2008-12-31     2.9\n",
       "Freq: A-DEC, Name: SUNACTIVITY, Length: 309, dtype: float64"
      ]
     },
     "execution_count": 10,
     "metadata": {},
     "output_type": "execute_result"
    }
   ],
   "source": [
    "endog"
   ]
  },
  {
   "cell_type": "code",
   "execution_count": 11,
   "id": "56ef66b9",
   "metadata": {},
   "outputs": [],
   "source": [
    "selection_res = ar_select_order(endog, 9, old_names=False, seasonal=True, period=11)\n",
    "pandas_ar_res = selection_res.model.fit()"
   ]
  },
  {
   "cell_type": "code",
   "execution_count": 12,
   "id": "223d50ba",
   "metadata": {},
   "outputs": [
    {
     "name": "stdout",
     "output_type": "stream",
     "text": [
      "2005-12-31    25.907501\n",
      "2006-12-31    29.024373\n",
      "2007-12-31    18.855729\n",
      "2008-12-31    21.392012\n",
      "2009-12-31    25.695092\n",
      "2010-12-31    49.981886\n",
      "2011-12-31    76.437566\n",
      "2012-12-31    86.244709\n",
      "2013-12-31    89.184663\n",
      "2014-12-31    72.251362\n",
      "2015-12-31    48.447259\n",
      "2016-12-31    32.292122\n",
      "2017-12-31    22.374099\n",
      "2018-12-31    18.581657\n",
      "2019-12-31    22.935657\n",
      "2020-12-31    34.513168\n",
      "2021-12-31    47.828469\n",
      "2022-12-31    65.487766\n",
      "2023-12-31    76.551575\n",
      "2024-12-31    84.185043\n",
      "2025-12-31    72.029019\n",
      "2026-12-31    52.603134\n",
      "2027-12-31    39.330875\n",
      "Freq: A-DEC, dtype: float64\n"
     ]
    }
   ],
   "source": [
    "pred = pandas_ar_res.predict(start=\"2005\", end=\"2027\")\n",
    "print(pred)"
   ]
  },
  {
   "cell_type": "code",
   "execution_count": 13,
   "id": "451d95f7",
   "metadata": {},
   "outputs": [
    {
     "data": {
      "image/png": "[encoded data removed]",
      "text/plain": [
       "<Figure size 432x288 with 1 Axes>"
      ]
     },
     "metadata": {
      "needs_background": "light"
     },
     "output_type": "display_data"
    }
   ],
   "source": [
    "fig = pandas_ar_res.plot_predict(start=\"2005\", end=\"2027\")"
   ]
  },
  {
   "cell_type": "code",
   "execution_count": null,
   "id": "1520958d",
   "metadata": {},
   "outputs": [],
   "source": []
  }
 ],
 "metadata": {
  "kernelspec": {
   "display_name": "Python 3 (ipykernel)",
   "language": "python",
   "name": "python3"
  },
  "language_info": {
   "codemirror_mode": {
    "name": "ipython",
    "version": 3
   },
   "file_extension": ".py",
   "mimetype": "text/x-python",
   "name": "python",
   "nbconvert_exporter": "python",
   "pygments_lexer": "ipython3",
   "version": "3.10.5"
  }
 },
 "nbformat": 4,
 "nbformat_minor": 5
}
